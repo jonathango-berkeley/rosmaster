{
 "cells": [
  {
   "cell_type": "code",
   "execution_count": 1,
   "id": "13cef70f-1a3c-4ca1-9017-e6e3772e383e",
   "metadata": {},
   "outputs": [],
   "source": [
    "import math\n",
    "import numpy as np\n",
    "import matplotlib.pyplot as plt\n",
    "import json\n",
    "#from nav_msgs.msg import OccupancyGrid"
   ]
  },
  {
   "cell_type": "code",
   "execution_count": 2,
   "id": "0ed8d3eb-61de-4cf2-a055-c6a930ac50f3",
   "metadata": {},
   "outputs": [],
   "source": [
    "class Node:\n",
    "    def __init__(self, x, y):\n",
    "        self.x = x\n",
    "        self.y = y\n",
    "        self.type = 0    #types: free, oc (= occupied), path, start, end\n",
    "        self.start_dis = float('inf')    #distance to start node\n",
    "        self.end_dis = float('inf')    #distance to end node"
   ]
  },
  {
   "cell_type": "code",
   "execution_count": 3,
   "id": "dd37ce65-b922-4caa-93cd-b2a913cdec12",
   "metadata": {},
   "outputs": [],
   "source": [
    "#create grid\n",
    "grid = []    #empty gird (list)\n",
    "rows = 100    #number of rows\n",
    "columns = 100   #number of columns\n",
    "\n",
    "for i in range(rows):    #create grid where all nodes are free\n",
    "    row_nodes = []    #empty row\n",
    "    for j in range(columns):    #fill row\n",
    "        node = Node(j, i)    #create node\n",
    "        row_nodes.append(node)    #add node to row\n",
    "    grid.append(row_nodes)    #add row to grid"
   ]
  },
  {
   "cell_type": "code",
   "execution_count": 4,
   "id": "fc644cd7-dfd7-4347-8a55-b11286ba3c12",
   "metadata": {},
   "outputs": [],
   "source": [
    "#create obstacles\n",
    "x_pos = np.array([49])\n",
    "y_pos = np.array([49])\n",
    "\n",
    "for i in range(len(y_pos)):\n",
    "    for j in range(len(x_pos)):\n",
    "        x = x_pos[i]\n",
    "        y = y_pos[i]\n",
    "        #print(x,y)\n",
    "        grid[y][x].type = 100    #occupied\n",
    "\n",
    "#set start node\n",
    "start_coor = np.array([0, 49])    #[x, y]\n",
    "grid[start_coor[1]][start_coor[0]].type = 0    #set start\n",
    "start = grid[start_coor[1]][start_coor[0]]\n",
    "\n",
    "#set end node\n",
    "end_coor = np.array([99, 49])    #[x, y]\n",
    "grid[end_coor[1]][end_coor[0]].type = 0    #set end\n",
    "end = grid[end_coor[1]][end_coor[0]]"
   ]
  },
  {
   "cell_type": "code",
   "execution_count": 5,
   "id": "9f139454-ed42-47e1-8556-927a33d9ecdf",
   "metadata": {},
   "outputs": [],
   "source": [
    "def dis_curr_end(curr, end):    #minimal distance from current node to end node\n",
    "    \n",
    "    x_dis = abs(end.x - curr.x)\n",
    "    y_dis = abs(end.y - curr.y)\n",
    "    \n",
    "    diag = min(x_dis, y_dis)    #minimal diagonal steps needed to reach end\n",
    "    strai = x_dis + y_dis - 2 * diag    #minimal straight steps needed to reach end\n",
    "    \n",
    "    dis = math.sqrt(2) * diag + strai\n",
    "    \n",
    "    return dis"
   ]
  },
  {
   "cell_type": "code",
   "execution_count": 6,
   "id": "c849f4ac-baf9-47c6-aaf6-5ae6ad4fe611",
   "metadata": {},
   "outputs": [],
   "source": [
    "def min_end_dis(next_nodes):\n",
    "    \n",
    "    next_node = None\n",
    "    \n",
    "    for i in range(len(next_nodes)):\n",
    "        \n",
    "        node = next_nodes[i]\n",
    "        \n",
    "        if next_node == None or node.end_dis < next_node.end_dis:    #set next_node to the node with the smallest distance to end\n",
    "            next_node = node\n",
    "\n",
    "    return next_node"
   ]
  },
  {
   "cell_type": "code",
   "execution_count": 7,
   "id": "dd5be2c9-9aed-45df-8471-e2248ab5f5fe",
   "metadata": {},
   "outputs": [],
   "source": [
    "def get_nei(grid, curr):\n",
    "    \n",
    "    rows = len(grid)    #determine number of rows\n",
    "    columns = len(grid[0])    #determine number of columns\n",
    "    \n",
    "    direc = np.array([[1, 0], [0, 1], [0, -1], [-1, 0]])#, [-1, 1], [1, 1], [1, -1], [-1, -1]])    #possible directions (vertical, horizontal and #diagonal)\n",
    "    \n",
    "    nei_nodes = []    #list where neighbor nodes are added\n",
    "    \n",
    "    for j in range(4):\n",
    "        \n",
    "        direc_j = direc[j,:]\n",
    "        \n",
    "        nei_x = curr.x + direc_j[0]\n",
    "        nei_y = curr.y + direc_j[1]\n",
    "\n",
    "        if nei_x >= 0 and nei_y >= 0 and nei_x < columns and nei_y < rows:    #adds neighbor for every direction if in domain\n",
    "            nei_nodes.append(grid[nei_y][nei_x])\n",
    "\n",
    "    return nei_nodes"
   ]
  },
  {
   "cell_type": "code",
   "execution_count": 8,
   "id": "17f60c5b-4432-4afb-b024-43c77d815aee",
   "metadata": {},
   "outputs": [],
   "source": [
    "def dis_curr_nei(curr, nei_node):\n",
    "    dis = math.sqrt(((curr.x - nei_node.x)**2) + ((curr.y - nei_node.y)**2))    #distance between two nodes\n",
    "    return dis"
   ]
  },
  {
   "cell_type": "code",
   "execution_count": 9,
   "id": "05a13cbf-0bea-4ca5-a998-f18de4aa5a8d",
   "metadata": {},
   "outputs": [],
   "source": [
    "def find_path(grid, came_from, curr):    #reconstructs the optimal path from came_from\n",
    "    path = []\n",
    "    key = str(curr.x) + ' ' + str(curr.y)\n",
    "    while key in came_from:\n",
    "        \n",
    "        path.insert(0, curr)\n",
    "        curr = came_from[key]\n",
    "        key = str(curr.x) + ' ' + str(curr.y)\n",
    "        #curr.type = 'path'\n",
    "        \n",
    "    return path"
   ]
  },
  {
   "cell_type": "code",
   "execution_count": 10,
   "id": "5059b350-1191-4bbb-80b3-fd1735583add",
   "metadata": {},
   "outputs": [
    {
     "ename": "NameError",
     "evalue": "name 'OccupancyGrid' is not defined",
     "output_type": "error",
     "traceback": [
      "\u001b[1;31m---------------------------------------------------------------------------\u001b[0m",
      "\u001b[1;31mNameError\u001b[0m                                 Traceback (most recent call last)",
      "Cell \u001b[1;32mIn[10], line 1\u001b[0m\n\u001b[1;32m----> 1\u001b[0m \u001b[38;5;28;01mdef\u001b[39;00m \u001b[38;5;21mprocess_occupancy_grid\u001b[39m(occupancy_grid_msg: \u001b[43mOccupancyGrid\u001b[49m):\n\u001b[0;32m      2\u001b[0m     resolution \u001b[38;5;241m=\u001b[39m occupancy_grid_msg\u001b[38;5;241m.\u001b[39minfo\u001b[38;5;241m.\u001b[39mresolution\n\u001b[0;32m      3\u001b[0m     width \u001b[38;5;241m=\u001b[39m occupancy_grid_msg\u001b[38;5;241m.\u001b[39minfo\u001b[38;5;241m.\u001b[39mwidth\n",
      "\u001b[1;31mNameError\u001b[0m: name 'OccupancyGrid' is not defined"
     ]
    }
   ],
   "source": [
    "def process_occupancy_grid(occupancy_grid_msg: OccupancyGrid):\n",
    "    resolution = occupancy_grid_msg.info.resolution\n",
    "    width = occupancy_grid_msg.info.width\n",
    "    height = occupancy_grid_msg.info.height\n",
    "    origin = occupancy_grid_msg.info.origin\n",
    "\n",
    "    data = occupancy_grid_msg.data\n",
    "\n",
    "    oc_grid = [data[i:i + width] for i in range(0, len(data), width)]\n",
    "\n",
    "    grid = []    #empty gird (list)\n",
    "    rows = height    #number of rows\n",
    "    columns = width   #number of columns\n",
    "\n",
    "    for i in range(rows):    #create grid where all nodes are free\n",
    "        row_nodes = []    #empty row\n",
    "        for j in range(columns):    #fill row\n",
    "            node = Node(j, i)    #create node\n",
    "            node.type = data[j, i]\n",
    "            row_nodes.append(node)    #add node to row\n",
    "        grid.append(row_nodes)    #add row to grid\n",
    "    \n",
    "    #set start node 1\n",
    "    start_coor = np.array([1, 1])    #[x, y]\n",
    "    start = grid[start_coor1[1]][start_coor1[0]]\n",
    "    \n",
    "    #set end node 1\n",
    "    end_coor = np.array([98, 98])    #[x, y]\n",
    "    end = grid[end_coor1[1]][end_coor1[0]]\n",
    "\n",
    "    return grid, start, end"
   ]
  },
  {
   "cell_type": "code",
   "execution_count": 21,
   "id": "b34fdb09-96a5-4d92-b18a-866e3ef7f7d9",
   "metadata": {},
   "outputs": [],
   "source": [
    "def add_buffer(grid, buffer, start, end):\n",
    "    \n",
    "    rows = len(grid)\n",
    "    columns = len(grid[0])\n",
    "\n",
    "    for i in range(rows):\n",
    "        for j in range(columns):\n",
    "            if grid[j][i].type > 51:    #if it's an obstacle\n",
    "                for di in range(-buffer, buffer + 1):\n",
    "                    for dj in range(-buffer, buffer + 1):\n",
    "                        ni, nj = i + di, j + dj\n",
    "                        if 0 <= ni < rows and 0 <= nj < columns:    #check if the neighbor is in bounds and within the buffer distance\n",
    "                            if grid[ni][nj] != start and grid[nj][ni] != end and grid[nj][ni].type != 100:    #avoid overwriting start, end, or 100\n",
    "                                    grid[ni][nj].type = 51    #set psudo obstacle\n",
    "                                    \n",
    "    return"
   ]
  },
  {
   "cell_type": "code",
   "execution_count": 22,
   "id": "a567aac9-3ff3-4f72-9b35-91e8e4ec561d",
   "metadata": {},
   "outputs": [],
   "source": [
    "def a_star(grid, start, end):\n",
    "    \n",
    "    next_nodes = []    #list where nodes are added which are to be examined next\n",
    "    examined_nodes = []    #list where nodes are added that which were examined\n",
    "    came_from = {}    #dictionary where keys are node coordinates and values is previous node\n",
    "\n",
    "    start.start_dis = 0    #distance to start node\n",
    "    start.end_dis = dis_curr_end(start, end)    #distance to end node\n",
    "\n",
    "    next_nodes.append(start)    #first node to examine\n",
    "\n",
    "    buffer = 3    #size of buffer zone\n",
    "    add_buffer(grid, buffer, start, end)    #add buffer zone\n",
    "\n",
    "    while len(next_nodes) > 0:    #loop until all nodes are examined\n",
    "\n",
    "        curr = min_end_dis(next_nodes)    #set the current node to the node of next_nodes that is closest to end\n",
    "        next_nodes.remove(curr)\n",
    "        examined_nodes.append(curr)\n",
    "\n",
    "        if curr.x == end.x and curr.y == end.y:    #ends loop if end is found\n",
    "            path = find_path(grid, came_from, curr)\n",
    "            return path\n",
    "\n",
    "        nei_nodes = get_nei(grid, curr)    #get neighbor nodes of current node\n",
    "        \n",
    "        for i in range(len(nei_nodes)):\n",
    "            \n",
    "            nei_node = nei_nodes[i]    #neighbor node i\n",
    "\n",
    "            if nei_node in examined_nodes or nei_node.type > 50:    #do not examine node that are already examined or occupied\n",
    "                continue\n",
    "\n",
    "            adj_node_1 = grid[curr.y][nei_node.x]\n",
    "            adj_node_2 = grid[nei_node.y][curr.x]\n",
    "            if adj_node_1.type > 50 and adj_node_2.type > 50:    #do not examine diagonal neighbor node if both adjacent neighbor nodes are occupied\n",
    "                continue\n",
    "\n",
    "            start_dis_nei = curr.start_dis + dis_curr_nei(curr, nei_node)    #distance from neighbor node to start\n",
    "            if nei_node not in next_nodes:    #add nei_node to next_nodes\n",
    "                next_nodes.append(nei_node)\n",
    "            elif start_dis_nei > nei_node.start_dis:    #do not examine node that moves us back to start\n",
    "                continue\n",
    "\n",
    "            came_from[str(nei_node.x) + ' ' + str(nei_node.y)] = curr    #puts current node into came_from with key of neighbor node\n",
    "            nei_node.start_dis = start_dis_nei    #sets start_dis of neighbor node\n",
    "            nei_node.end_dis = nei_node.start_dis + dis_curr_end(nei_node, end)    #sets end_dis of neighbor node"
   ]
  },
  {
   "cell_type": "code",
   "execution_count": 13,
   "id": "41371148-e3f5-4b56-8c0a-74d5f4ff1325",
   "metadata": {},
   "outputs": [],
   "source": [
    "#testing\n",
    "path = a_star(grid, start, end)"
   ]
  },
  {
   "cell_type": "code",
   "execution_count": 20,
   "id": "e3a675b6-884f-4cc8-93d0-f068b8596af3",
   "metadata": {},
   "outputs": [
    {
     "data": {
      "image/png": "[encoded data removed]",
      "text/plain": [
       "<Figure size 1920x1440 with 1 Axes>"
      ]
     },
     "metadata": {},
     "output_type": "display_data"
    }
   ],
   "source": [
    "#display grid\n",
    "plt.figure(dpi=300)\n",
    "plt.title('Occupancy Grid')\n",
    "\n",
    "oc1_x, oc1_y, path1_x, path1_y, poc1_x, poc1_y = [[] for _ in range(6)]\n",
    "\n",
    "rows = len(grid)    #determine number of rows\n",
    "columns = len(grid[0])\n",
    "\n",
    "for i in range(len(path)+1):\n",
    "    if i == 0:\n",
    "        path1_x.append(start.x)\n",
    "        path1_y.append(start.y)\n",
    "    else:\n",
    "        path1_x.append(path[i-1].x)\n",
    "        path1_y.append(path[i-1].y)\n",
    "\n",
    "for i in range(rows):\n",
    "    for j in range(columns):\n",
    "        if grid[j][i].type > 51:\n",
    "            oc1_x.append(grid[j][i].x)\n",
    "            oc1_y.append(grid[j][i].y)\n",
    "        elif grid[j][i].type == 51:\n",
    "            poc1_x.append(grid[j][i].x)\n",
    "            poc1_y.append(grid[j][i].y)\n",
    "            \n",
    "plt.plot(path1_x, path1_y, color='red', linewidth=0.5, marker='o', markersize=0.01)\n",
    "plt.plot(oc1_x, oc1_y, 's', color='black', markersize=1.7)\n",
    "plt.plot(poc1_x, poc1_y, 's', color='grey', markersize=1.7)\n",
    "\n",
    "plt.axis('equal')\n",
    "\n",
    "plt.show()"
   ]
  }
 ],
 "metadata": {
  "kernelspec": {
   "display_name": "Python 3 (ipykernel)",
   "language": "python",
   "name": "python3"
  },
  "language_info": {
   "codemirror_mode": {
    "name": "ipython",
    "version": 3
   },
   "file_extension": ".py",
   "mimetype": "text/x-python",
   "name": "python",
   "nbconvert_exporter": "python",
   "pygments_lexer": "ipython3",
   "version": "3.11.9"
  }
 },
 "nbformat": 4,
 "nbformat_minor": 5
}
