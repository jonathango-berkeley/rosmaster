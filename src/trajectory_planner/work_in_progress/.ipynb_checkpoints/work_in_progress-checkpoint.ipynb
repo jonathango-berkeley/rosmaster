{
 "cells": [
  {
   "cell_type": "code",
   "execution_count": 37,
   "id": "13cef70f-1a3c-4ca1-9017-e6e3772e383e",
   "metadata": {},
   "outputs": [],
   "source": [
    "import math\n",
    "import numpy as np"
   ]
  },
  {
   "cell_type": "code",
   "execution_count": 38,
   "id": "0ed8d3eb-61de-4cf2-a055-c6a930ac50f3",
   "metadata": {},
   "outputs": [],
   "source": [
    "class Node:\n",
    "    def __init__(self, x, y):\n",
    "        self.x = x\n",
    "        self.y = y\n",
    "        self.type = 'free'\n",
    "        self.g_score = float('inf')\n",
    "        self.f_score = float('inf')"
   ]
  },
  {
   "cell_type": "code",
   "execution_count": 39,
   "id": "dd37ce65-b922-4caa-93cd-b2a913cdec12",
   "metadata": {},
   "outputs": [],
   "source": [
    "#create grid\n",
    "grid = []    #empty gird\n",
    "rows = 100    #number of rows\n",
    "columns = 100   #number of columns\n",
    "\n",
    "for i in range(rows):    #create grid where all nodes are free\n",
    "    row_nodes = []    #empty row\n",
    "    for j in range(columns):    #fill row\n",
    "        node = Node(j, i)    #create node\n",
    "        row_nodes.append(node)    #add node to row\n",
    "    grid.append(row_nodes)    #add row to grid"
   ]
  },
  {
   "cell_type": "code",
   "execution_count": 48,
   "id": "fc644cd7-dfd7-4347-8a55-b11286ba3c12",
   "metadata": {},
   "outputs": [],
   "source": [
    "#create obstacles\n",
    "x_pos = [np.arange(0, 96, 1), np.arange(5, 100, 1)]\n",
    "y_pos = np.array([33, 66])\n",
    "\n",
    "for i in range(len(y_pos)):\n",
    "    for j in range(len(x_pos[i])):\n",
    "        x = x_pos[i][j]\n",
    "        y = y_pos[i]\n",
    "        grid[y][x].type = 'oc'    #occupied\n",
    "\n",
    "#set start node\n",
    "start = np.array([0, 0])    #[x, y]\n",
    "grid[start[1]][start[0]].type = 'start'    #set start\n",
    "\n",
    "#set end node\n",
    "end = np.array([99, 99])    #[x, y]\n",
    "grid[end[1]][end[0]].type = 'end'    #set end"
   ]
  },
  {
   "cell_type": "code",
   "execution_count": null,
   "id": "a567aac9-3ff3-4f72-9b35-91e8e4ec561d",
   "metadata": {},
   "outputs": [],
   "source": [
    "def a_star(grid, start, end):\n",
    "    "
   ]
  }
 ],
 "metadata": {
  "kernelspec": {
   "display_name": "Python 3 (ipykernel)",
   "language": "python",
   "name": "python3"
  },
  "language_info": {
   "codemirror_mode": {
    "name": "ipython",
    "version": 3
   },
   "file_extension": ".py",
   "mimetype": "text/x-python",
   "name": "python",
   "nbconvert_exporter": "python",
   "pygments_lexer": "ipython3",
   "version": "3.11.9"
  }
 },
 "nbformat": 4,
 "nbformat_minor": 5
}
